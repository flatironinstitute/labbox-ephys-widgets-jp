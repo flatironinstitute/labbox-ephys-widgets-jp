{
 "cells": [
  {
   "cell_type": "code",
   "execution_count": null,
   "id": "absent-study",
   "metadata": {},
   "outputs": [],
   "source": [
    "import labbox_ephys as le\n",
    "import labbox_ephys_widgets_jp as lew"
   ]
  },
  {
   "cell_type": "code",
   "execution_count": null,
   "id": "clinical-choice",
   "metadata": {},
   "outputs": [],
   "source": [
    "# Load the default workspace\n",
    "workspace = le.load_workspace()"
   ]
  },
  {
   "cell_type": "code",
   "execution_count": null,
   "id": "incredible-childhood",
   "metadata": {},
   "outputs": [],
   "source": [
    "# View the workspace\n",
    "lew.WorkspaceView(workspace=workspace)"
   ]
  },
  {
   "cell_type": "markdown",
   "id": "english-community",
   "metadata": {},
   "source": [
    "# Add recordings/sortings to the workspace\n",
    "\n",
    "Each time you run this cell, new data will be added to the workspace, which will persist in the loaded feed"
   ]
  },
  {
   "cell_type": "code",
   "execution_count": null,
   "id": "theoretical-franchise",
   "metadata": {},
   "outputs": [],
   "source": [
    "import spikeextractors as se\n",
    "import numpy as np\n",
    "\n",
    "recording_label = 'simulated_recording'\n",
    "duration_sec = 50 # duration of simulated recording\n",
    "num_channels = 8 # num. channels in simulated recording\n",
    "num_units = 5 # num units\n",
    "seed = 1 # random number generator seed\n",
    "\n",
    "def prepare_recording_sorting():\n",
    "    # Simulate a recording (toy example)\n",
    "    recording, sorting = se.example_datasets.toy_example(duration=duration_sec, num_channels=num_channels, K=num_units, seed=seed)\n",
    "    R = le.LabboxEphysRecordingExtractor.from_memory(recording, serialize=True, serialize_dtype=np.int16)\n",
    "    S = le.LabboxEphysSortingExtractor.from_memory(sorting, serialize=True)\n",
    "    return R, S\n",
    "\n",
    "recording, sorting_true = prepare_recording_sorting()\n",
    "sorting_label = 'true'\n",
    "R_id = workspace.add_recording(recording=recording, label=recording_label)\n",
    "S_id = workspace.add_sorting(sorting=sorting_true, recording_id=R_id, label=sorting_label)"
   ]
  },
  {
   "cell_type": "code",
   "execution_count": null,
   "id": "numerical-ozone",
   "metadata": {},
   "outputs": [],
   "source": []
  }
 ],
 "metadata": {
  "kernelspec": {
   "display_name": "Python 3",
   "language": "python",
   "name": "python3"
  },
  "language_info": {
   "codemirror_mode": {
    "name": "ipython",
    "version": 3
   },
   "file_extension": ".py",
   "mimetype": "text/x-python",
   "name": "python",
   "nbconvert_exporter": "python",
   "pygments_lexer": "ipython3",
   "version": "3.8.8"
  }
 },
 "nbformat": 4,
 "nbformat_minor": 5
}
