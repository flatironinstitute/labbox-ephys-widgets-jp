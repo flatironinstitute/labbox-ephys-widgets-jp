{
 "cells": [
  {
   "cell_type": "code",
   "execution_count": null,
   "id": "double-guest",
   "metadata": {},
   "outputs": [],
   "source": [
    "import labbox_ephys as le\n",
    "import labbox_ephys_widgets_jp as lew"
   ]
  },
  {
   "cell_type": "code",
   "execution_count": null,
   "id": "incorrect-abraham",
   "metadata": {},
   "outputs": [],
   "source": [
    "# Load the default workspace\n",
    "w = le.load_workspace()"
   ]
  },
  {
   "cell_type": "code",
   "execution_count": null,
   "id": "rocky-price",
   "metadata": {},
   "outputs": [],
   "source": [
    "# View the workspace\n",
    "lew.WorkspaceView(workspace=w)"
   ]
  },
  {
   "cell_type": "code",
   "execution_count": null,
   "id": "demanding-afternoon",
   "metadata": {},
   "outputs": [],
   "source": []
  }
 ],
 "metadata": {
  "kernelspec": {
   "display_name": "Python 3",
   "language": "python",
   "name": "python3"
  },
  "language_info": {
   "codemirror_mode": {
    "name": "ipython",
    "version": 3
   },
   "file_extension": ".py",
   "mimetype": "text/x-python",
   "name": "python",
   "nbconvert_exporter": "python",
   "pygments_lexer": "ipython3",
   "version": "3.8.8"
  }
 },
 "nbformat": 4,
 "nbformat_minor": 5
}
