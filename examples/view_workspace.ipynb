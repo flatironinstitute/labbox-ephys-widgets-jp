{
 "cells": [
  {
   "cell_type": "code",
   "execution_count": 1,
   "id": "regulation-cream",
   "metadata": {},
   "outputs": [
    {
     "name": "stdout",
     "output_type": "stream",
     "text": [
      "h5py version > 2.10.0. Some extractors might not work properly. It is recommended to downgrade to version 2.10.0: \n",
      ">>> pip install h5py==2.10.0\n"
     ]
    }
   ],
   "source": [
    "import labbox_ephys as le\n",
    "import labbox_ephys_widgets_jp as lew"
   ]
  },
  {
   "cell_type": "code",
   "execution_count": 2,
   "id": "basic-insulin",
   "metadata": {},
   "outputs": [
    {
     "name": "stderr",
     "output_type": "stream",
     "text": [
      "/home/magland/miniconda3/envs/labbox-ephys-widgets-jp/lib/python3.8/site-packages/ipykernel/ipkernel.py:287: DeprecationWarning: `should_run_async` will not call `transform_cell` automatically in the future. Please pass the result to `transformed_cell` argument and any exception that happen during thetransform in `preprocessing_exc_tuple` in IPython 7.17 and above.\n",
      "  and should_run_async(code)\n"
     ]
    }
   ],
   "source": [
    "# Load the default workspace\n",
    "workspace = le.load_workspace()"
   ]
  },
  {
   "cell_type": "code",
   "execution_count": 5,
   "id": "similar-competition",
   "metadata": {},
   "outputs": [
    {
     "data": {
      "application/vnd.jupyter.widget-view+json": {
       "model_id": "3763c72d35084e55a079e861d95e6a2b",
       "version_major": 2,
       "version_minor": 0
      },
      "text/plain": [
       "WorkspaceViewJp()"
      ]
     },
     "metadata": {},
     "output_type": "display_data"
    }
   ],
   "source": [
    "# View the workspace\n",
    "lew.WorkspaceView(workspace=workspace)"
   ]
  },
  {
   "cell_type": "markdown",
   "id": "twelve-professional",
   "metadata": {},
   "source": [
    "# Add recordings/sortings to the workspace\n",
    "\n",
    "Each time you run this cell, new data will be added to the workspace, which will persist in the loaded feed"
   ]
  },
  {
   "cell_type": "code",
   "execution_count": 4,
   "id": "exclusive-benefit",
   "metadata": {},
   "outputs": [
    {
     "name": "stderr",
     "output_type": "stream",
     "text": [
      "/home/magland/miniconda3/envs/labbox-ephys-widgets-jp/lib/python3.8/site-packages/spikeextractors/extraction_tools.py:877: DeprecationWarning: `np.float` is a deprecated alias for the builtin `float`. To silence this warning, use `float` by itself. Doing this will not modify any behavior and is safe. If you specifically wanted the numpy scalar type, use `np.float64` here.\n",
      "Deprecated in NumPy 1.20; for more details and guidance: https://numpy.org/devdocs/release/1.20.0-notes.html#deprecations\n",
      "  if isinstance(start_frame, (float, np.float)):\n",
      "/home/magland/miniconda3/envs/labbox-ephys-widgets-jp/lib/python3.8/site-packages/spikeextractors/extraction_tools.py:883: DeprecationWarning: `np.float` is a deprecated alias for the builtin `float`. To silence this warning, use `float` by itself. Doing this will not modify any behavior and is safe. If you specifically wanted the numpy scalar type, use `np.float64` here.\n",
      "Deprecated in NumPy 1.20; for more details and guidance: https://numpy.org/devdocs/release/1.20.0-notes.html#deprecations\n",
      "  if isinstance(end_frame, (float, np.float)):\n"
     ]
    },
    {
     "name": "stdout",
     "output_type": "stream",
     "text": [
      "Adding recording: R-579ac77e1be4\n",
      "Adding sorting: S-8ddbbbbb5182\n"
     ]
    }
   ],
   "source": [
    "import spikeextractors as se\n",
    "import numpy as np\n",
    "\n",
    "recording_label = 'simulated_recording'\n",
    "duration_sec = 50 # duration of simulated recording\n",
    "num_channels = 8 # num. channels in simulated recording\n",
    "num_units = 5 # num units\n",
    "seed = 1 # random number generator seed\n",
    "\n",
    "def prepare_recording_sorting():\n",
    "    # Simulate a recording (toy example)\n",
    "    recording, sorting = se.example_datasets.toy_example(duration=duration_sec, num_channels=num_channels, K=num_units, seed=seed)\n",
    "    R = le.LabboxEphysRecordingExtractor.from_memory(recording, serialize=True, serialize_dtype=np.int16)\n",
    "    S = le.LabboxEphysSortingExtractor.from_memory(sorting, serialize=True)\n",
    "    return R, S\n",
    "\n",
    "recording, sorting_true = prepare_recording_sorting()\n",
    "sorting_label = 'true'\n",
    "R_id = workspace.add_recording(recording=recording, label=recording_label)\n",
    "S_id = workspace.add_sorting(sorting=sorting_true, recording_id=R_id, label=sorting_label)"
   ]
  },
  {
   "cell_type": "code",
   "execution_count": null,
   "id": "preceding-block",
   "metadata": {},
   "outputs": [],
   "source": []
  }
 ],
 "metadata": {
  "kernelspec": {
   "display_name": "Python 3",
   "language": "python",
   "name": "python3"
  },
  "language_info": {
   "codemirror_mode": {
    "name": "ipython",
    "version": 3
   },
   "file_extension": ".py",
   "mimetype": "text/x-python",
   "name": "python",
   "nbconvert_exporter": "python",
   "pygments_lexer": "ipython3",
   "version": "3.8.8"
  }
 },
 "nbformat": 4,
 "nbformat_minor": 5
}
