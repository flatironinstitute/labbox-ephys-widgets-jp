{
 "cells": [
  {
   "cell_type": "markdown",
   "id": "figured-native",
   "metadata": {},
   "source": [
    "## Hint: Make a copy of this notebook so you don't need to worry about git conflicts"
   ]
  },
  {
   "cell_type": "code",
   "execution_count": null,
   "id": "shared-gates",
   "metadata": {},
   "outputs": [],
   "source": [
    "import os\n",
    "\n",
    "import labbox_ephys as le\n",
    "import labbox_ephys_widgets_jp as lew\n",
    "import kachery_p2p as kp\n",
    "\n",
    "# ipykernel is giving some annoying deprecation warnings\n",
    "import warnings\n",
    "warnings.filterwarnings(\"ignore\", category=DeprecationWarning)"
   ]
  },
  {
   "cell_type": "markdown",
   "id": "designed-kruger",
   "metadata": {},
   "source": [
    "# Load and view the default workspace"
   ]
  },
  {
   "cell_type": "code",
   "execution_count": null,
   "id": "expressed-andrews",
   "metadata": {},
   "outputs": [],
   "source": [
    "workspace_uri = kp.get('sortingview-default-workspace')\n",
    "if not workspace_uri:\n",
    "    workspace_uri = le.create_workspace(label='sortingview-default').uri\n",
    "    kp.set('sortingview-default-workspace', workspace_uri)\n",
    "workspace = le.load_workspace(workspace_uri)\n",
    "print(f'Workspace URI: {workspace.uri}')"
   ]
  },
  {
   "cell_type": "code",
   "execution_count": null,
   "id": "intense-wildlife",
   "metadata": {},
   "outputs": [],
   "source": [
    "# View the workspace\n",
    "workspace_view = lew.WorkspaceView(workspace=workspace)\n",
    "display(workspace_view)"
   ]
  },
  {
   "cell_type": "markdown",
   "id": "liquid-cleanup",
   "metadata": {},
   "source": [
    "# Add recordings/sortings to the workspace\n",
    "\n",
    "Each time you run this cell, new data will be added to the workspace, which will persist in the loaded feed"
   ]
  },
  {
   "cell_type": "code",
   "execution_count": null,
   "id": "breeding-patio",
   "metadata": {},
   "outputs": [],
   "source": [
    "import spikeextractors as se\n",
    "import numpy as np\n",
    "\n",
    "recording_label = 'simulated_recording'\n",
    "duration_sec = 50 # duration of simulated recording\n",
    "num_channels = 8 # num. channels in simulated recording\n",
    "num_units = 5 # num units\n",
    "seed = 1 # random number generator seed\n",
    "\n",
    "def prepare_recording_sorting():\n",
    "    # Simulate a recording (toy example)\n",
    "    recording, sorting = se.example_datasets.toy_example(duration=duration_sec, num_channels=num_channels, K=num_units, seed=seed)\n",
    "    R = le.LabboxEphysRecordingExtractor.from_memory(recording, serialize=True, serialize_dtype=np.int16)\n",
    "    S = le.LabboxEphysSortingExtractor.from_memory(sorting, serialize=True)\n",
    "    return R, S\n",
    "\n",
    "recording, sorting_true = prepare_recording_sorting()\n",
    "sorting_label = 'true'\n",
    "R_id = workspace.add_recording(recording=recording, label=recording_label)\n",
    "S_id = workspace.add_sorting(sorting=sorting_true, recording_id=R_id, label=sorting_label)"
   ]
  },
  {
   "cell_type": "markdown",
   "id": "miniature-sample",
   "metadata": {},
   "source": [
    "# Get info about the currently selected recording/sorting\n",
    "\n",
    "In the above workspace view, click to open a recording and sorting"
   ]
  },
  {
   "cell_type": "code",
   "execution_count": null,
   "id": "exotic-finland",
   "metadata": {},
   "outputs": [],
   "source": [
    "# Get the current selected reocrding and sorting id\n",
    "recording_id = workspace_view.current_recording_id\n",
    "sorting_id = workspace_view.current_sorting_id\n",
    "print('Current recording and sorting from the workspace view above')\n",
    "print(f'Recording: {recording_id}; Sorting: {sorting_id}')"
   ]
  },
  {
   "cell_type": "code",
   "execution_count": null,
   "id": "raised-grill",
   "metadata": {},
   "outputs": [],
   "source": [
    "# Get the recording extractor and sorting extractor\n",
    "R = workspace.get_recording_extractor(recording_id)\n",
    "S = workspace.get_sorting_extractor(sorting_id)\n",
    "print(f'Channels: {R.get_channel_ids()}')\n",
    "print(f'Units: {S.get_unit_ids()}')\n",
    "print(f'Sampling freq. (Hz): {R.get_sampling_frequency()}')"
   ]
  },
  {
   "cell_type": "code",
   "execution_count": null,
   "id": "weighted-cream",
   "metadata": {},
   "outputs": [],
   "source": [
    "# Get the sortingcuration and curated sorting extractor\n",
    "sorting_curation = workspace.get_sorting_curation(sorting_id)\n",
    "print(sorting_curation)\n",
    "S_curated = workspace.get_curated_sorting_extractor(sorting_id)\n",
    "print(f'Units: {S_curated.get_unit_ids()}')"
   ]
  },
  {
   "cell_type": "markdown",
   "id": "solved-things",
   "metadata": {},
   "source": [
    "# Set external unit metrics for a sorting"
   ]
  },
  {
   "cell_type": "code",
   "execution_count": null,
   "id": "beginning-provincial",
   "metadata": {},
   "outputs": [],
   "source": [
    "# set some external unit metrics\n",
    "# This will be reflected in the units table above\n",
    "m = [\n",
    "    {'name': 'test1', 'label': 'Test metric 1', 'tooltip': 'Test metric 1', 'data': {'1': 10, '2': 20, '3': 37}},\n",
    "    {'name': 'test2', 'label': 'Test metric 2', 'tooltip': 'Test metric 2', 'data': {'1': -1, '2': -2, '3': -3}}\n",
    "]\n",
    "workspace.set_unit_metrics_for_sorting(sorting_id=sorting_id, metrics=m)"
   ]
  }
 ],
 "metadata": {
  "kernelspec": {
   "display_name": "Python 3",
   "language": "python",
   "name": "python3"
  },
  "language_info": {
   "codemirror_mode": {
    "name": "ipython",
    "version": 3
   },
   "file_extension": ".py",
   "mimetype": "text/x-python",
   "name": "python",
   "nbconvert_exporter": "python",
   "pygments_lexer": "ipython3",
   "version": "3.8.8"
  }
 },
 "nbformat": 4,
 "nbformat_minor": 5
}
